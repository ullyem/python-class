{
  "nbformat": 4,
  "nbformat_minor": 0,
  "metadata": {
    "colab": {
      "name": "2일차-파이선 데이터분석.ipynb",
      "provenance": [],
      "collapsed_sections": [],
      "include_colab_link": true
    },
    "kernelspec": {
      "name": "python3",
      "display_name": "Python 3"
    },
    "language_info": {
      "name": "python"
    }
  },
  "cells": [
    {
      "cell_type": "markdown",
      "metadata": {
        "id": "view-in-github",
        "colab_type": "text"
      },
      "source": [
        "<a href=\"https://colab.research.google.com/github/ullyem/python-class/blob/main/2%EC%9D%BC%EC%B0%A8_%ED%8C%8C%EC%9D%B4%EC%84%A0_%EB%8D%B0%EC%9D%B4%ED%84%B0%EB%B6%84%EC%84%9D.ipynb\" target=\"_parent\"><img src=\"https://colab.research.google.com/assets/colab-badge.svg\" alt=\"Open In Colab\"/></a>"
      ]
    },
    {
      "cell_type": "markdown",
      "metadata": {
        "id": "QhyIlXjCN3Y0"
      },
      "source": [
        "# **변수**\n",
        "-------------------"
      ]
    },
    {
      "cell_type": "markdown",
      "metadata": {
        "id": "oxSI2TIqDu3p"
      },
      "source": [
        "###1. 출력 : hello world 를 출력해 봅시다!"
      ]
    },
    {
      "cell_type": "code",
      "metadata": {
        "id": "Jfc7aKVyD1p_"
      },
      "source": [
        "# 출력을 하기위해서 사용하는 함수?"
      ],
      "execution_count": null,
      "outputs": []
    },
    {
      "cell_type": "markdown",
      "metadata": {
        "id": "mSTu9MrsNkph"
      },
      "source": [
        "### 2. indent : 다음 코드의 계층적 구조를 이해해 봅시다!"
      ]
    },
    {
      "cell_type": "code",
      "metadata": {
        "id": "7uWgWbd8UZXr"
      },
      "source": [
        "# simple.py\n",
        "languages = ['python', 'perl', 'c', 'java']\n",
        "\n",
        "for lang in languages:\n",
        "    if lang in ['python', 'perl']:\n",
        "        print(\"%6s need interpreter\" % lang)\n",
        "    elif lang in ['c', 'java']:\n",
        "        print(\"%6s need compiler\" % lang)\n",
        "    else:\n",
        "        print(\"should not reach here\")"
      ],
      "execution_count": null,
      "outputs": []
    },
    {
      "cell_type": "markdown",
      "metadata": {
        "id": "f8Dimy3eOVCM"
      },
      "source": [
        "### 3. 주석 : 다음코드에 주석을 달아봅시다!"
      ]
    },
    {
      "cell_type": "code",
      "metadata": {
        "id": "B_M4SZp9OQo0"
      },
      "source": [
        "# simple.py\n",
        "languages = ['python', 'perl', 'c', 'java']\n",
        "\n",
        "for lang in languages:\n",
        "    if lang in ['python', 'perl']:\n",
        "        print(\"%6s need interpreter\" % lang)\n",
        "    elif lang in ['c', 'java']:\n",
        "        print(\"%6s need compiler\" % lang)\n",
        "    else:\n",
        "        print(\"should not reach here\")"
      ],
      "execution_count": null,
      "outputs": []
    },
    {
      "cell_type": "markdown",
      "metadata": {
        "id": "0F_-NvADOZDC"
      },
      "source": [
        "### 4. 출력 : sep 옵션을 이용해서 다음 내용을 인쇄해봅시다!"
      ]
    },
    {
      "cell_type": "code",
      "metadata": {
        "id": "k5ZpkIlqQvh7"
      },
      "source": [
        "# 짜장면먹고 짬뽕먹고 군만두\n",
        "# 소고기먹고 돼지고기먹고 닭고기먹고\n",
        "\n",
        "a = \"짜장면\"\n",
        "b = \"짬뽕\"\n",
        "c = \"군만두\"\n",
        "d = \"소고기\"\n",
        "e = \"돼지고기\"\n",
        "f = \"닭고기\""
      ],
      "execution_count": null,
      "outputs": []
    },
    {
      "cell_type": "markdown",
      "metadata": {
        "id": "c9_sLU6FWdBG"
      },
      "source": [
        "###5. 입력 : 나이를 입력받아서 출력하는 입력구문을 만들어봅시다!"
      ]
    },
    {
      "cell_type": "code",
      "metadata": {
        "id": "HMyTQfnUQ1mN"
      },
      "source": [
        "# 당신의 나이는 몇살입니까? 출력하며 input 함수와 int 함수 이용\n",
        "\n",
        "# 올해가 2021년도일때, 생년을 계산\n",
        "\n",
        "# 당신은 몇년 생입니다. 출력"
      ],
      "execution_count": null,
      "outputs": []
    },
    {
      "cell_type": "markdown",
      "metadata": {
        "id": "2SWVBn0kXsk_"
      },
      "source": [
        "### 6. 변수 : 변수를 만들고 인쇄후 삭제"
      ]
    },
    {
      "cell_type": "code",
      "metadata": {
        "id": "G0RdoKu_X2JO"
      },
      "source": [
        "# 변수이름을 지어봅시다. 넣으면 안되는 규칙은?\n",
        "\n",
        "# 변수를 인쇄해 봅시다.\n",
        "\n",
        "# 변수를 메모리에서 삭제해 봅시다."
      ],
      "execution_count": null,
      "outputs": []
    },
    {
      "cell_type": "markdown",
      "metadata": {
        "id": "qVVUzZGgYBLt"
      },
      "source": [
        "# **타입**\n",
        "-----------------"
      ]
    },
    {
      "cell_type": "markdown",
      "metadata": {
        "id": "cN4PTcZ1YQEd"
      },
      "source": [
        "###1. 숫자형 : 다음 숫자를 미리 예상해봅시다."
      ]
    },
    {
      "cell_type": "code",
      "metadata": {
        "id": "WIgmvM6GbOkj"
      },
      "source": [
        "print(0x2f) "
      ],
      "execution_count": null,
      "outputs": []
    },
    {
      "cell_type": "code",
      "metadata": {
        "id": "BKqoH9HEbS88"
      },
      "source": [
        "print(0o17)"
      ],
      "execution_count": null,
      "outputs": []
    },
    {
      "cell_type": "code",
      "metadata": {
        "id": "4XmUSU4wbYyk"
      },
      "source": [
        "print(0b1101)"
      ],
      "execution_count": null,
      "outputs": []
    },
    {
      "cell_type": "code",
      "metadata": {
        "id": "s75afi21e7yJ"
      },
      "source": [
        "print(9.46e12)"
      ],
      "execution_count": null,
      "outputs": []
    },
    {
      "cell_type": "code",
      "metadata": {
        "id": "AfiuGbd-e8W0"
      },
      "source": [
        "a = 1+2j\n",
        "b = 3+4j\n",
        "print(a+b)"
      ],
      "execution_count": null,
      "outputs": []
    },
    {
      "cell_type": "markdown",
      "metadata": {
        "id": "-XzOcyYoba8-"
      },
      "source": [
        "###2. 문자형 : 다음 문자열을 출력해봅시다."
      ]
    },
    {
      "cell_type": "code",
      "metadata": {
        "id": "ZtWhZcw8jDq7"
      },
      "source": [
        "# 내가 가장 좋아하는 판타지 소설은 \"해리포터\" 입니다.\n",
        "\n",
        "# 나는 (개행) 오늘도 (tab) 행복합니다."
      ],
      "execution_count": null,
      "outputs": []
    },
    {
      "cell_type": "markdown",
      "metadata": {
        "id": "o8loVI32jcKc"
      },
      "source": [
        "### 3. 문자형 : 긴 문장을 칠때"
      ]
    },
    {
      "cell_type": "code",
      "metadata": {
        "id": "k2ALDETRjhtZ"
      },
      "source": [
        "s1 = \"\"\"동해물과 백두산이 마르고 닳도록\n",
        "하느님이 보우하사 우리나라 만세\n",
        "무궁화 삼천리 화려강산\"\"\""
      ],
      "execution_count": null,
      "outputs": []
    },
    {
      "cell_type": "code",
      "metadata": {
        "id": "BKDGcVhwj1dF"
      },
      "source": [
        "s2 = \"동해물과 백두산이 마르고 닳도록\\\n",
        "하느님이 보우하사 우리나라 만세\\\n",
        "무궁화 삼천리 화려강산\""
      ],
      "execution_count": null,
      "outputs": []
    },
    {
      "cell_type": "code",
      "metadata": {
        "id": "MDI98XbZn3w0"
      },
      "source": [
        "s3 = (\"동해물과 백두산이 마르고 닳도록\"\n",
        "\"하느님이 보우하사 우리나라 만세\"\n",
        "\"무궁화 삼천리 화려강산\")"
      ],
      "execution_count": null,
      "outputs": []
    },
    {
      "cell_type": "code",
      "metadata": {
        "id": "p03zTIImkDae"
      },
      "source": [
        "print(s1)"
      ],
      "execution_count": null,
      "outputs": []
    },
    {
      "cell_type": "code",
      "metadata": {
        "id": "TfB5wyDjkEvz"
      },
      "source": [
        "print(s2)"
      ],
      "execution_count": null,
      "outputs": []
    },
    {
      "cell_type": "code",
      "metadata": {
        "id": "qUtr2hd1n_O3"
      },
      "source": [
        "print(s3)"
      ],
      "execution_count": null,
      "outputs": []
    },
    {
      "cell_type": "markdown",
      "metadata": {
        "id": "eeJ6tqXZqnIN"
      },
      "source": [
        "# **연산자**\n",
        "------------"
      ]
    },
    {
      "cell_type": "markdown",
      "metadata": {
        "id": "qnURrY5ht2MA"
      },
      "source": [
        "### 1. 대입 및 산술 : 다음 연산 출력해봅시다!"
      ]
    },
    {
      "cell_type": "code",
      "metadata": {
        "id": "N1BNPKujqrW4"
      },
      "source": [
        "# 3의 2 거듭제곱을 2로 나눈 나머지\n"
      ],
      "execution_count": null,
      "outputs": []
    },
    {
      "cell_type": "code",
      "metadata": {
        "id": "isrgQvXNuUDG"
      },
      "source": [
        "# 복합 대입 연산자를 사용해서 다음을 시도해보세요\n",
        "a = 5\n",
        "\n",
        "# a에 2를 더해서 a에 저장\n",
        "\n",
        "# a에 3을 빼서 a에 저장\n",
        "\n",
        "# a에 4를 곱해서 a에 저장"
      ],
      "execution_count": null,
      "outputs": []
    },
    {
      "cell_type": "markdown",
      "metadata": {
        "id": "HfnPhg6Wur4Z"
      },
      "source": [
        "### 2. 문자열 연산 : 다음 연산을 출력해봅시다."
      ]
    },
    {
      "cell_type": "code",
      "metadata": {
        "id": "V6oGzFL-u8QC"
      },
      "source": [
        "a = \"안녕하세요 \"\n",
        "b = \"제 이름은 (성함을 적어주세요) 입니다.\"\n",
        "c = \"제 나이는 \"\n",
        "d = 32 # 본인의 나이를 적어주세요\n",
        "e = \"살 입니다.\""
      ],
      "execution_count": null,
      "outputs": []
    },
    {
      "cell_type": "code",
      "metadata": {
        "id": "3v8MZE8jx4Dt"
      },
      "source": [
        "# 안녕하세요 제이름은 OOO 입니다. 를 출력해주세요\n",
        "\n",
        "# 제 나이는 OO 살 입니다. 를 출력해주세요\n"
      ],
      "execution_count": null,
      "outputs": []
    },
    {
      "cell_type": "code",
      "metadata": {
        "id": "08A9tdaWyE2-"
      },
      "source": [
        "f = \"제 키는\"\n",
        "g = \"cm 입니다.\"\n",
        "\n",
        "# input 으로 본인의 키를 입력해주세요\n",
        "\n",
        "# 제 키는 OO cm 입니다. 를 출력해주세요."
      ],
      "execution_count": null,
      "outputs": []
    },
    {
      "cell_type": "markdown",
      "metadata": {
        "id": "iWas8vPv0fNl"
      },
      "source": [
        "### 3. 타입변환 : 다음을 출력해봅시다. "
      ]
    },
    {
      "cell_type": "code",
      "metadata": {
        "id": "_zO3fBpI0w3t"
      },
      "source": [
        "a = \"1.9425\""
      ],
      "execution_count": null,
      "outputs": []
    },
    {
      "cell_type": "code",
      "metadata": {
        "id": "dn5iGg-yA4JB"
      },
      "source": [
        "print(a)"
      ],
      "execution_count": null,
      "outputs": []
    },
    {
      "cell_type": "code",
      "metadata": {
        "id": "jlF0P9apA6q3"
      },
      "source": [
        "print(float(a))"
      ],
      "execution_count": null,
      "outputs": []
    },
    {
      "cell_type": "code",
      "metadata": {
        "id": "tDK-kofHA8co"
      },
      "source": [
        "print(int(a))"
      ],
      "execution_count": null,
      "outputs": []
    },
    {
      "cell_type": "code",
      "metadata": {
        "id": "c6p-oCkEBCFb"
      },
      "source": [
        "print(int(float(a)))"
      ],
      "execution_count": null,
      "outputs": []
    },
    {
      "cell_type": "code",
      "metadata": {
        "id": "Ke3ZemBcB2BJ"
      },
      "source": [
        "print(round(float(a)))"
      ],
      "execution_count": null,
      "outputs": []
    },
    {
      "cell_type": "markdown",
      "metadata": {
        "id": "cLurhsYPCUM9"
      },
      "source": [
        "# **조건문**\n",
        "--------------"
      ]
    },
    {
      "cell_type": "markdown",
      "metadata": {
        "id": "SMgsPR2GCmUY"
      },
      "source": [
        "### 1. 조건문 : 조건문을 만들어 봅시다."
      ]
    },
    {
      "cell_type": "code",
      "metadata": {
        "id": "uHdXt-bZJbdc"
      },
      "source": [
        "# a 에 여러가지 값을 넣고 돌려봅시다. \n",
        "a = 0\n",
        "\n",
        "if a :\n",
        "  print(\"yes\")"
      ],
      "execution_count": null,
      "outputs": []
    },
    {
      "cell_type": "markdown",
      "metadata": {
        "id": "2F0kGOnBJctd"
      },
      "source": [
        "### 2. 조건문 : 여러개의 조건문을 만들어 봅시다."
      ]
    },
    {
      "cell_type": "code",
      "metadata": {
        "id": "ZzgnZSidChr_"
      },
      "source": [
        "# 인풋으로 가상의 파이선 시험성적을 받아서 var 에 저장해 봅시다. 예 : 80\n",
        "var = int(input(\"파이선 성적을 적어주세요\"))\n",
        "\n",
        "# 해당 성적에 따라서 50점 미만은 낙제했습니다. \n",
        "# 50점 이상 80점 미만은 보통입니다.\n",
        "# 80점 이상 90점 미만은 우수합니다.\n",
        "# 90점 이상은 최우수에 속합니다. 라고 출력해주세요.\n",
        "\n"
      ],
      "execution_count": null,
      "outputs": []
    },
    {
      "cell_type": "markdown",
      "metadata": {
        "id": "umJkVM-MNzrq"
      },
      "source": [
        "### 3. 블록구조 : 다음을 실행해 봅시다. "
      ]
    },
    {
      "cell_type": "code",
      "metadata": {
        "id": "2e0dhQU0OElk"
      },
      "source": [
        "age = 16\n",
        "if age < 19 :\n",
        "  print(\"애들은 가라\")\n",
        "  print(\"공부 열심히 해야지\")"
      ],
      "execution_count": null,
      "outputs": []
    },
    {
      "cell_type": "markdown",
      "metadata": {
        "id": "eXaCmpY3OPf5"
      },
      "source": [
        "### 4. elif, else : elif 와 else를 이용해 봅시다."
      ]
    },
    {
      "cell_type": "code",
      "metadata": {
        "id": "o6Ai3d3xOcuZ"
      },
      "source": [
        "# 문제 2번에서 만든 조건문을 elif 와 else 를 이용해 고쳐봅시다. "
      ],
      "execution_count": null,
      "outputs": []
    },
    {
      "cell_type": "markdown",
      "metadata": {
        "id": "AaqkRjgGOsO5"
      },
      "source": [
        "# 반복문 \n",
        "--------------------"
      ]
    },
    {
      "cell_type": "markdown",
      "metadata": {
        "id": "JxDK2Xrzbk0Q"
      },
      "source": [
        "### 1. while 반복문 : 아래 반복문을 실행하고 이해해 봅시다. "
      ]
    },
    {
      "cell_type": "code",
      "metadata": {
        "id": "A4IHw-KdVsGl"
      },
      "source": [
        "num = 1\n",
        "sum = 0\n",
        "while num <= 100 : \n",
        "  sum += num\n",
        "  num += 1\n",
        "print(\"sum =\", sum)"
      ],
      "execution_count": null,
      "outputs": []
    },
    {
      "cell_type": "markdown",
      "metadata": {
        "id": "3gQlRUmybq7N"
      },
      "source": [
        "### 2. while 반복문 : 아래 코드를 작성해 봅시다. "
      ]
    },
    {
      "cell_type": "code",
      "metadata": {
        "id": "AnuVJ8WPXeo2"
      },
      "source": [
        "# 3의 배수 10개를 출력하는 코드"
      ],
      "execution_count": null,
      "outputs": []
    },
    {
      "cell_type": "markdown",
      "metadata": {
        "id": "4VAEMyOOb5A0"
      },
      "source": [
        "### 3. for 반복문 : 리스트 순회 / range"
      ]
    },
    {
      "cell_type": "code",
      "metadata": {
        "id": "jzmdMfmDfcJT"
      },
      "source": [
        "l = [\"철수\", \"영희\", \"서연\"]\n",
        "# for 문을 이용해서 l을 순회하며 OO야 안녕 을 출력해주세요"
      ],
      "execution_count": null,
      "outputs": []
    },
    {
      "cell_type": "code",
      "metadata": {
        "id": "QwHJ24eaxG08"
      },
      "source": [
        "# 1부터 10까지 수를 출력해봅시다."
      ],
      "execution_count": null,
      "outputs": []
    },
    {
      "cell_type": "code",
      "metadata": {
        "id": "FDVDhn-YxK2n"
      },
      "source": [
        "# 1부터 10까지 수중에서 2씩 건너뛴 수(홀수)를 출력해 봅시다."
      ],
      "execution_count": null,
      "outputs": []
    },
    {
      "cell_type": "markdown",
      "metadata": {
        "id": "XTBmDdkQfuQT"
      },
      "source": [
        "###4. for 반복문 : while 문과 차이점 이해하기"
      ]
    },
    {
      "cell_type": "code",
      "metadata": {
        "id": "toLTRz9-eJbB"
      },
      "source": [
        "# 2번 문제를 for 문으로 바꿔봅시다. "
      ],
      "execution_count": null,
      "outputs": []
    },
    {
      "cell_type": "markdown",
      "metadata": {
        "id": "s3rr0OqHeMjL"
      },
      "source": [
        "### 5. break / continue 사용해보기"
      ]
    },
    {
      "cell_type": "code",
      "metadata": {
        "id": "J8IX4_gPhCHT"
      },
      "source": [
        "# 1~10 까지 출력하는 for 문을 만들어 봅시다.\n",
        "# 해당 for 문에서 5일때 continue 하며 해당 루프 숫자를 인쇄하는 대신 \"5에 드디어 도달!\" 이라는 글씨를 인쇄해 봅시다.\n",
        "# 해당 for 문에서 8일때 break 하며 해당 루프 숫자를 인쇄하는 대신 \"루프 탈출\" 이라는 글씨를 인쇄해 봅시다!"
      ],
      "execution_count": null,
      "outputs": []
    },
    {
      "cell_type": "markdown",
      "metadata": {
        "id": "GM2FVocmhwLw"
      },
      "source": [
        "### 6. 이중루프 이해하기"
      ]
    },
    {
      "cell_type": "code",
      "metadata": {
        "id": "1Y2XgUy8iy0A"
      },
      "source": [
        "for dan in range(2, 10):\n",
        "  print(dan, \"단\")\n",
        "  for hang in range(2, 10):\n",
        "    print(dan, \"*\", hang, \"=\", dan*hang)\n",
        "  print()"
      ],
      "execution_count": null,
      "outputs": []
    },
    {
      "cell_type": "code",
      "metadata": {
        "id": "FMz3mFrwjaVa"
      },
      "source": [
        "dan = 2\n",
        "while dan <= 9:\n",
        "  hang = 2\n",
        "  print(dan, \"단\")\n",
        "  while hang <= 9:\n",
        "    print(dan, \"*\", hang, \"=\", dan*hang)\n",
        "    hang +=1\n",
        "  dan+=1\n",
        "  print()"
      ],
      "execution_count": null,
      "outputs": []
    },
    {
      "cell_type": "markdown",
      "metadata": {
        "id": "w5AYguI3itI9"
      },
      "source": [
        "### *7*. 이중루프 만들기 "
      ]
    },
    {
      "cell_type": "code",
      "metadata": {
        "id": "28hbNZHvibIb"
      },
      "source": [
        "# while 문을 이용해서 *을 1개 부터 20개까지 출력해보세요."
      ],
      "execution_count": null,
      "outputs": []
    },
    {
      "cell_type": "code",
      "metadata": {
        "id": "mCkApDSXkBB0"
      },
      "source": [
        "# for 문을 이용해서 *을 1개 부터 20개까지 출력해보세요."
      ],
      "execution_count": null,
      "outputs": []
    },
    {
      "cell_type": "markdown",
      "metadata": {
        "id": "qIC67NfBjMQx"
      },
      "source": [
        "# **함수**\n",
        "--------------"
      ]
    },
    {
      "cell_type": "markdown",
      "metadata": {
        "id": "CcdDgC40npqr"
      },
      "source": [
        "### 1. 함수 이해하기"
      ]
    },
    {
      "cell_type": "code",
      "metadata": {
        "id": "4TCx4PEskYbB"
      },
      "source": [
        "def calcsum(n):\n",
        "  sum = 0\n",
        "  for num in range(n+1):\n",
        "    sum += num\n",
        "  return sum\n",
        "\n",
        "print(\"~ 4 =\", calcsum(4))\n",
        "print(\"~ 10 =\", calcsum(10))\n",
        "# 20 까지의 합을 구해보기"
      ],
      "execution_count": null,
      "outputs": []
    },
    {
      "cell_type": "markdown",
      "metadata": {
        "id": "eS3vfi1xpL1R"
      },
      "source": [
        "Q1. 해당 코드에서 형식인수는?\n",
        "Q2. 해당 코드에서 실인수는?\n",
        "Q3. 해당 코드에서 리턴 값은?"
      ]
    },
    {
      "cell_type": "markdown",
      "metadata": {
        "id": "RyHfr13xqtiF"
      },
      "source": [
        "### 2. 함수 만들어 보기"
      ]
    },
    {
      "cell_type": "code",
      "metadata": {
        "id": "89peIrFVpjzD"
      },
      "source": [
        "# 숫자를 넣으면 10을 곱해서 내보내는 함수"
      ],
      "execution_count": null,
      "outputs": []
    },
    {
      "cell_type": "code",
      "metadata": {
        "id": "CUBSb1-aq3qj"
      },
      "source": [
        "# 아무 것도 넣지 않고 실행하면 \"안녕하세요\" 를 출력하고 아무것도 내보내지 않는 함수"
      ],
      "execution_count": null,
      "outputs": []
    },
    {
      "cell_type": "markdown",
      "metadata": {
        "id": "DZwRbQ3Oq-C7"
      },
      "source": [
        "### 3. 가변 인수 이해하기"
      ]
    },
    {
      "cell_type": "code",
      "metadata": {
        "id": "02_7cR2HrARF"
      },
      "source": [
        "def intsum(*ints):\n",
        "  sum = 0\n",
        "  for num in ints:\n",
        "    sum += num\n",
        "  return sum\n",
        "\n",
        "print(intsum(1, 2, 3))\n",
        "# 더하고 싶은 숫자열을 넣어보세요"
      ],
      "execution_count": null,
      "outputs": []
    },
    {
      "cell_type": "code",
      "metadata": {
        "id": "vX5lSY5GweQD"
      },
      "source": [
        "def intsum(a, *ints):\n",
        "  sum = 0\n",
        "  for num in ints:\n",
        "    sum += num\n",
        "  sum = a*sum\n",
        "  return sum\n",
        "\n",
        "print(intsum(5, 1, 2, 3))\n",
        "\n",
        "# a는? *ints는?\n",
        "# a 와 *ints의 순서를 바꿔봅시다\n",
        "# a 도 가변인수로 만들어 봅시다"
      ],
      "execution_count": null,
      "outputs": []
    },
    {
      "cell_type": "markdown",
      "metadata": {
        "id": "3l2SJKroxq7u"
      },
      "source": [
        "### 4. default 값 지정 / 키워드 이해해보기"
      ]
    },
    {
      "cell_type": "code",
      "metadata": {
        "id": "N111jINLxyXK"
      },
      "source": [
        "def calcstep(begin, end, step = 1):\n",
        "  sum = 0\n",
        "  for num in range(begin, end + 1, step):\n",
        "    sum += num\n",
        "  return sum\n",
        "\n",
        "print(\"1 ~ 10 = \", calcstep(1, 10, 2))\n",
        "print(\"1 ~ 100 = \", calcstep(1, 100))\n",
        "#default 를 step 3 으로 변경해보세요"
      ],
      "execution_count": null,
      "outputs": []
    },
    {
      "cell_type": "code",
      "metadata": {
        "id": "orPbNfPLylbH"
      },
      "source": [
        "print(\"1 ~ 10 = \", calcstep(begin=1, end=10, step=2))\n",
        "print(\"1 ~ 10 = \", calcstep(1, 10, step=2))\n",
        "# begin, end, step 을 순서를 변경해보세요\n",
        "# step 값을 넣지 말아보세요"
      ],
      "execution_count": null,
      "outputs": []
    },
    {
      "cell_type": "markdown",
      "metadata": {
        "id": "NNIBAmWT0MdO"
      },
      "source": [
        "### 5. 키워드 가변인수"
      ]
    },
    {
      "cell_type": "code",
      "metadata": {
        "id": "X3cS_mZF0Pp2"
      },
      "source": [
        "def calcstep(**args):\n",
        "  begin = args['begin']\n",
        "  end = args['end']\n",
        "  step = args['step']\n",
        "\n",
        "  sum = 0\n",
        "  for num in range(begin, end + 1, step):\n",
        "    sum += num\n",
        "  return sum\n",
        "\n",
        "print(\"1 ~ 10 = \", calcstep(begin=1, end=10, step=2))\n",
        "# 키워드 순서를 변경해보세요\n",
        "# 키워드 hello 를 하나 추가해서 calcstep 내부에서 인쇄해보세요"
      ],
      "execution_count": null,
      "outputs": []
    },
    {
      "cell_type": "markdown",
      "metadata": {
        "id": "odhSBG0z1Tig"
      },
      "source": [
        "###6. 지역 변수 / 전역 변수 이해하기"
      ]
    },
    {
      "cell_type": "code",
      "metadata": {
        "id": "z5kyGbOQ2QWx"
      },
      "source": [
        "salerate = 0.9\n",
        "price = 10000\n",
        "\n",
        "def kim():\n",
        "  print(\"오늘의 할인율 : \", salerate)\n",
        "\n",
        "def lee():\n",
        "  price = 1000\n",
        "  print(\"가격 : \", price*salerate)\n",
        "\n",
        "kim()\n",
        "salerate=1.1\n",
        "lee()\n",
        "print(price)\n"
      ],
      "execution_count": null,
      "outputs": []
    },
    {
      "cell_type": "markdown",
      "metadata": {
        "id": "LjwJklvO4GK-"
      },
      "source": [
        "### 7. global 함수 이해하기"
      ]
    },
    {
      "cell_type": "code",
      "metadata": {
        "id": "7CMiQGlK3uYN"
      },
      "source": [
        "global a\n",
        "a = 1\n",
        "print(a) \n",
        "\n",
        "def test():\n",
        "    global a\n",
        "    a = 3\n",
        "    b = 2\n",
        "    return a + b\n",
        " \n",
        " \n",
        "print(test())\n",
        "print(a)"
      ],
      "execution_count": null,
      "outputs": []
    },
    {
      "cell_type": "markdown",
      "metadata": {
        "id": "T6p9CUtj4Un-"
      },
      "source": [
        "### 8. docstring "
      ]
    },
    {
      "cell_type": "code",
      "metadata": {
        "id": "yc_TW3-74WvV"
      },
      "source": [
        "# 2. 번에서 만든 함수에서 docstring 을 달아봅시다!"
      ],
      "execution_count": null,
      "outputs": []
    },
    {
      "cell_type": "markdown",
      "metadata": {
        "id": "BR61ymex4lRT"
      },
      "source": [
        "# **문자열 관리**\n",
        "------------"
      ]
    },
    {
      "cell_type": "markdown",
      "metadata": {
        "id": "v8rrCo2z4saS"
      },
      "source": [
        "### 1. 문자열 분리"
      ]
    },
    {
      "cell_type": "code",
      "metadata": {
        "id": "SCB7cifE5BYw"
      },
      "source": [
        "s = \"python\"\n",
        "\n",
        "# t를 인쇄해 봅시다\n",
        "# t를 -첨자를 이용하여 인쇄해봅시다."
      ],
      "execution_count": null,
      "outputs": []
    },
    {
      "cell_type": "code",
      "metadata": {
        "id": "AsEIwK4I5QEI"
      },
      "source": [
        "# while 문을 이용해서 s 를 한글자씩 \",\"로 seperate 해서 인쇄해봅시다."
      ],
      "execution_count": null,
      "outputs": []
    },
    {
      "cell_type": "markdown",
      "metadata": {
        "id": "ok_EghTj5cUn"
      },
      "source": [
        "### 2. slice "
      ]
    },
    {
      "cell_type": "code",
      "metadata": {
        "id": "fgPFb1Lo5fgA"
      },
      "source": [
        "a = \"Life is too short, You need Python\"\n",
        "# Life is too short 와 You need Python으로 나눠보세요"
      ],
      "execution_count": null,
      "outputs": []
    },
    {
      "cell_type": "code",
      "metadata": {
        "id": "W9kHLNAR6GIS"
      },
      "source": [
        "a = \"20010331Rainy\"\n",
        "# 년도, 월, 일, 날씨로 나눠보세요"
      ],
      "execution_count": null,
      "outputs": []
    },
    {
      "cell_type": "markdown",
      "metadata": {
        "id": "0L0UZUXC6Lx7"
      },
      "source": [
        "### 3. 문자열 메서드 : len, find, in"
      ]
    },
    {
      "cell_type": "code",
      "metadata": {
        "id": "vC0ke4oy6SBw"
      },
      "source": [
        "s = \"hello python world\"\n",
        "# 문자열의 길이를 구하시오\n",
        "\n",
        "# w의 위치는?\n",
        "\n",
        "# 구문에서 o가 몇개 있나요?\n",
        "\n",
        "# 문자열에 \"python\" 이 있나요?"
      ],
      "execution_count": null,
      "outputs": []
    },
    {
      "cell_type": "markdown",
      "metadata": {
        "id": "nC3bcXulD7qk"
      },
      "source": [
        "### 4. 문자열 메서드 : is~()"
      ]
    },
    {
      "cell_type": "code",
      "metadata": {
        "id": "B86eZ3av7zcd"
      },
      "source": [
        "ss = \"hello\"\n",
        "print(ss.isalpha())\n",
        "print(ss.islower())\n",
        "print(ss.isdigit())"
      ],
      "execution_count": null,
      "outputs": []
    },
    {
      "cell_type": "markdown",
      "metadata": {
        "id": "IFlUVxvVEAnS"
      },
      "source": [
        "###5. 문자열 메서드 : split"
      ]
    },
    {
      "cell_type": "code",
      "metadata": {
        "id": "SYhHd-ZGEEf5"
      },
      "source": [
        "sss = \"맑음*-*흐림*-*비옴*-*미세먼지\"\n",
        "#sss를 *-*를 제거하여 list 에 저장해봅시다.\n",
        "#제거된 list를 for 문으로 출력해봅시다."
      ],
      "execution_count": null,
      "outputs": []
    },
    {
      "cell_type": "markdown",
      "metadata": {
        "id": "qjhLKTHYEfDx"
      },
      "source": [
        "### 6. 문자열 메서드 : splitlines "
      ]
    },
    {
      "cell_type": "code",
      "metadata": {
        "id": "M6MYpajnEjo7"
      },
      "source": [
        "ssss = \"\"\"Hello everyone\n",
        "My name is seoyeon\n",
        "Nice to meet you\"\"\"\n",
        "\n",
        "ssss.splitlines()\n",
        "\n",
        "#위의 문장을 개행문자를 이용한 한줄로 바꾼후 다시 splitlines를 적용해보세요"
      ],
      "execution_count": null,
      "outputs": []
    },
    {
      "cell_type": "markdown",
      "metadata": {
        "id": "I2eYORMxF7z8"
      },
      "source": [
        "### 7. 문자열 메서드 : ljust, rjust"
      ]
    },
    {
      "cell_type": "code",
      "metadata": {
        "id": "RYjHNrshF-qH"
      },
      "source": [
        "Str = 'String is very hard!!...'\n",
        "\n",
        "print(Str.ljust(50,'=')) \n",
        "print(Str.rjust(50,'=')) "
      ],
      "execution_count": null,
      "outputs": []
    },
    {
      "cell_type": "markdown",
      "metadata": {
        "id": "-YIPKOrGGGyC"
      },
      "source": [
        "###8. 문자열 메서드 : center"
      ]
    },
    {
      "cell_type": "code",
      "metadata": {
        "id": "RjM2ZPlTGLDR"
      },
      "source": [
        "Str = 'String is very hard!!...'\n",
        "\n",
        "print(Str.center(50,'=')) "
      ],
      "execution_count": null,
      "outputs": []
    },
    {
      "cell_type": "markdown",
      "metadata": {
        "id": "nVRwv2hzGtcB"
      },
      "source": [
        "### 9. 포멧팅 : 다양한 타입"
      ]
    },
    {
      "cell_type": "code",
      "metadata": {
        "id": "oSa3ywfAGvqp"
      },
      "source": [
        "이름 = \"양서연\" #본인이름\n",
        "나이 = 32 #본인나이\n",
        "키 = 165.5 #본인키 (소수점)\n",
        "\n",
        "# 포멧팅 방식으로 이름 str , 나이 int, 키 float 형태로 \n",
        "# 안녕하세요 제이름은 (이름) 입니다. 나이는 (나이) 살이고 키는 (키)cm 입니다. 를 출력해주세요."
      ],
      "execution_count": null,
      "outputs": []
    },
    {
      "cell_type": "markdown",
      "metadata": {
        "id": "CI73ja7jHXB6"
      },
      "source": [
        "### 10. 포멧팅 : 숫자"
      ]
    },
    {
      "cell_type": "code",
      "metadata": {
        "id": "dkjtr8Q5HZeM"
      },
      "source": [
        "price = 10.3864\n",
        "print(\"가격: %f % price)\n",
        "\n",
        "#10 자리로 출력(오른쪽 정렬)\n",
        "\n",
        "#10 자리로 출력(왼쪽 정렬)\n",
        "\n",
        "# 소수점 3째자리까지 출력(오른쪽 정렬)"
      ],
      "execution_count": null,
      "outputs": []
    },
    {
      "cell_type": "markdown",
      "metadata": {
        "id": "xwkX2mL5IWLN"
      },
      "source": [
        "# **리스트와 튜플**\n",
        "-------------"
      ]
    },
    {
      "cell_type": "markdown",
      "metadata": {
        "id": "pM6cTF28I_Ma"
      },
      "source": [
        "### 1. 리스트 : 값 인쇄해보기"
      ]
    },
    {
      "cell_type": "code",
      "metadata": {
        "id": "Nwp4Lz-7IaRS"
      },
      "source": [
        "nums = [0, 1, 2, 3, 4, 5, 6, 7, 8, 9, 10]\n",
        "\n",
        "# 6 출력해보기\n",
        "\n",
        "# 4~8까지 수만 뽑아보기\n",
        "\n",
        "# 9를 12로 바꿔보기\n",
        "\n",
        "# 3~5 자리에 [60, 70, 80, 90, 100] 넣어보기"
      ],
      "execution_count": null,
      "outputs": []
    },
    {
      "cell_type": "markdown",
      "metadata": {
        "id": "UpWllRdyJZps"
      },
      "source": [
        "### 2. 리스트 : 컴프레헨션 이해하기"
      ]
    },
    {
      "cell_type": "code",
      "metadata": {
        "id": "WCuhQqySJ-0P"
      },
      "source": [
        "nums = [n*2 for n in range(1, 11)]\n",
        "nums"
      ],
      "execution_count": null,
      "outputs": []
    },
    {
      "cell_type": "code",
      "metadata": {
        "id": "PhOZ9DRGKJxj"
      },
      "source": [
        "nums = []\n",
        "for n in range(1, 11):\n",
        "  nums.append(n*2)"
      ],
      "execution_count": null,
      "outputs": []
    },
    {
      "cell_type": "markdown",
      "metadata": {
        "id": "boUzMpobKbZy"
      },
      "source": [
        "### 3. 리스트 : append, insert, remove"
      ]
    },
    {
      "cell_type": "code",
      "metadata": {
        "id": "ou9GLU8QKgx2"
      },
      "source": [
        "score = [32, 64, 79, 50]\n",
        "\n",
        "# append 로 성적 2개를 넣어보세요\n",
        "\n",
        "# insert 로 3번째 index에 100을 넣어보세요\n",
        "\n",
        "# 4번째 index 자리에 20, 30, 40 을 4번째, 5, 6번째 인덱스가 되도록 넣어보세요\n",
        "\n",
        "# 넣었던 40 을 삭제해 보세요\n",
        "\n",
        "# del 을 이용해 2번째 값을 지워보세요\n",
        "\n",
        "# 5~7번째 값을 sliding을 통해 지워보세요"
      ],
      "execution_count": null,
      "outputs": []
    },
    {
      "cell_type": "code",
      "metadata": {
        "id": "-IAxuVY6NhG3"
      },
      "source": [
        "score.clear()"
      ],
      "execution_count": null,
      "outputs": []
    },
    {
      "cell_type": "markdown",
      "metadata": {
        "id": "cIXwKcbkNkqX"
      },
      "source": [
        "### 4. 리스트 : 검색"
      ]
    },
    {
      "cell_type": "code",
      "metadata": {
        "id": "6sk--vPQNzAK"
      },
      "source": [
        "score = [ 22, 35, 80, 40, 75, 14]\n",
        "print(max(score))\n",
        "print(min(score))\n",
        "print(40 in score)"
      ],
      "execution_count": null,
      "outputs": []
    },
    {
      "cell_type": "markdown",
      "metadata": {
        "id": "Qhigzg12OJzv"
      },
      "source": [
        "### 5. 리스트 : 정렬"
      ]
    },
    {
      "cell_type": "code",
      "metadata": {
        "id": "CLJmppaAOgIi"
      },
      "source": [
        "num_list = [15, 22, 8, 79, 10]\n",
        "num_list.sort()\n",
        "print(num_list)"
      ],
      "execution_count": null,
      "outputs": []
    },
    {
      "cell_type": "code",
      "metadata": {
        "id": "nAsp-MhIOigT"
      },
      "source": [
        "str_list = ['좋은하루','good_morning','굿모닝','niceday']\n",
        "str_list.sort()\n",
        "print(str_list)"
      ],
      "execution_count": null,
      "outputs": []
    },
    {
      "cell_type": "code",
      "metadata": {
        "id": "_q87wWK_Oo8W"
      },
      "source": [
        "ans = [5, 20, 93, 30, 55]\n",
        "print(sorted(ans))"
      ],
      "execution_count": null,
      "outputs": []
    },
    {
      "cell_type": "code",
      "metadata": {
        "id": "hstc8iOiO-fY"
      },
      "source": [
        "num_list = [15, 22, 8, 79, 10]\n",
        "num_list.sort(reverse=True)\n",
        "print(num_list)"
      ],
      "execution_count": null,
      "outputs": []
    },
    {
      "cell_type": "code",
      "metadata": {
        "id": "kFlmNmT_PGD9"
      },
      "source": [
        "str_list = ['hello','good_morning','wow','niceday']\n",
        "print(sorted(str_list, key=len)) "
      ],
      "execution_count": null,
      "outputs": []
    },
    {
      "cell_type": "code",
      "metadata": {
        "id": "qvYC-bO3PMrj"
      },
      "source": [
        "str_list = ['hello','good_morning','wow','niceday']\n",
        "print(sorted(str_list, key=str.lower))  "
      ],
      "execution_count": null,
      "outputs": []
    },
    {
      "cell_type": "markdown",
      "metadata": {
        "id": "VOwOsIYQQAQJ"
      },
      "source": [
        "### 6. 튜플 : 여러개의 인자 동시에 받기"
      ]
    },
    {
      "cell_type": "code",
      "metadata": {
        "id": "QuP4wuiAQDIc"
      },
      "source": [
        "import time\n",
        "\n",
        "def gettime():\n",
        "  now = time.localtime()\n",
        "  return now.tm_hour, now.tm_min\n",
        "\n",
        "result = gettime() # result 의 자료형은?\n",
        "print(\"지금은 %d시 %d분입니다\" % (result[0], result[1]))"
      ],
      "execution_count": null,
      "outputs": []
    },
    {
      "cell_type": "code",
      "metadata": {
        "id": "rVH-sD8xSfBO"
      },
      "source": [
        "a = divmod(10, 3) #10을 3으로 나눈 나머지\n",
        "print(a) # 몫, 나머지"
      ],
      "execution_count": null,
      "outputs": []
    },
    {
      "cell_type": "markdown",
      "metadata": {
        "id": "DWs350bXTIAu"
      },
      "source": [
        "# **사전과 집합**\n",
        "------------------"
      ]
    },
    {
      "cell_type": "markdown",
      "metadata": {
        "id": "CodFgBUyTUx0"
      },
      "source": [
        "###1. 사전 : 값 출력 / 입력 / keys , values, items"
      ]
    },
    {
      "cell_type": "code",
      "metadata": {
        "id": "N7Wfao18TOQz"
      },
      "source": [
        "dic = {'boy':'소년', 'school':'학교', 'book':'책'}\n",
        "# school 키에 대한 값을 출력\n",
        "\n",
        "# get 을 이용하여 book 키에 대한 값을 출력, 없을시 없는 단어라는 안내\n",
        "\n",
        "# 'hello':'안녕' 이라는 값 추가\n",
        "\n",
        "# school 키의 값 삭제\n",
        "\n",
        "# keys 출력\n",
        "\n",
        "# values 출력\n",
        "\n",
        "# items 출력"
      ],
      "execution_count": null,
      "outputs": []
    },
    {
      "cell_type": "markdown",
      "metadata": {
        "id": "PzN7xrsoWJYI"
      },
      "source": [
        "### 2. 사전 : update, dict"
      ]
    },
    {
      "cell_type": "code",
      "metadata": {
        "id": "Axr2MCPBWPzl"
      },
      "source": [
        "a = {'alice': [1, 2, 3], 'bob': 20, 'tony': 15, 'suzy': 30}\n",
        "a.update({'bob':99, 'tony':99, 'kim': 30})\n",
        "a"
      ],
      "execution_count": null,
      "outputs": []
    },
    {
      "cell_type": "code",
      "metadata": {
        "id": "Xy5SUZ8bWbXz"
      },
      "source": [
        "b = dict()\n",
        "print(b)\n",
        "b['id']='test'\n",
        "print(b)"
      ],
      "execution_count": null,
      "outputs": []
    },
    {
      "cell_type": "markdown",
      "metadata": {
        "id": "Yxsu3HhaW8e0"
      },
      "source": [
        "### 3. 사전 : isalpha() , not in 이해하기"
      ]
    },
    {
      "cell_type": "code",
      "metadata": {
        "id": "lpPDkPeHXFfu"
      },
      "source": [
        "song = \"\"\"by the rivers of babylon, there we sat down\n",
        "yeah we wept, when we remember zion.\n",
        "when the wicked carried us away in captivity\n",
        "required from us a song\n",
        "now how shall we sing the lord's song in a strange land \"\"\"\n",
        "\n",
        "alphabet = dict()\n",
        "for c in song :\n",
        "  if c.isalpha() == False:\n",
        "    continue\n",
        "  c = c.lower()\n",
        "  if c not in alphabet :\n",
        "    alphabet[c] = 1\n",
        "  else:\n",
        "    alphabet[c] += 1\n",
        "\n",
        "print(alphabet)"
      ],
      "execution_count": null,
      "outputs": []
    },
    {
      "cell_type": "markdown",
      "metadata": {
        "id": "9nAFadncZTMH"
      },
      "source": [
        "### 4. 집합 : set() , add, update"
      ]
    },
    {
      "cell_type": "code",
      "metadata": {
        "id": "0jJ9rV6aZtGU"
      },
      "source": [
        "my_set = set()\n",
        "print(my_set)\n",
        "my_set.add(5)\n",
        "print(my_set)\n",
        "my_set.update(\"hello\")\n",
        "print(my_set)"
      ],
      "execution_count": null,
      "outputs": []
    },
    {
      "cell_type": "markdown",
      "metadata": {
        "id": "6FrSeNi8aNrW"
      },
      "source": [
        "### 5. 집합 : set operation"
      ]
    },
    {
      "cell_type": "code",
      "metadata": {
        "id": "GKFAqNW1aR2S"
      },
      "source": [
        "twox = {2, 4, 6, 8, 10, 12}\n",
        "threex = {3, 6, 8, 12, 15}\n",
        "\n",
        "print(\"교집합\", twox & threex)\n",
        "print(\"합집합\", twox | threex)\n",
        "print(\"차집합\", twox - threex)\n",
        "print(\"차집합\", threex - twox)\n",
        "print(\"배타적 차집합\", twox ^ threex)"
      ],
      "execution_count": null,
      "outputs": []
    },
    {
      "cell_type": "markdown",
      "metadata": {
        "id": "jy84wqWlaqxg"
      },
      "source": [
        "# **컬렉션 관리**\n",
        "-----------"
      ]
    },
    {
      "cell_type": "markdown",
      "metadata": {
        "id": "QeTvasAJa0GJ"
      },
      "source": [
        "### 1. enumerate"
      ]
    },
    {
      "cell_type": "code",
      "metadata": {
        "id": "_N1xt0xHayhl"
      },
      "source": [
        "for i, name in enumerate(['body', 'foo', 'bar']): \n",
        "  print(i, name)"
      ],
      "execution_count": null,
      "outputs": []
    },
    {
      "cell_type": "markdown",
      "metadata": {
        "id": "2cOT0bi6bFIV"
      },
      "source": [
        "### 2. zip"
      ]
    },
    {
      "cell_type": "code",
      "metadata": {
        "id": "Q-KN4Puubu2h"
      },
      "source": [
        "a = [1, 2, 3, 4, 5]\n",
        "b = [\"월\", \"화\", \"수\", \"목\", \"금\"]\n",
        "\n",
        "z  = zip(a, b)\n",
        "for aa, bb in z:\n",
        "  print(aa, bb)"
      ],
      "execution_count": null,
      "outputs": []
    },
    {
      "cell_type": "markdown",
      "metadata": {
        "id": "TWzlB0yVchBS"
      },
      "source": [
        "### 3. filter"
      ]
    },
    {
      "cell_type": "code",
      "metadata": {
        "id": "HvZbtIodciIT"
      },
      "source": [
        "# x 가 30 이상 60 미만인 flunk 함수를 만드세요\n",
        "\n",
        "\n",
        "score = [10, 26, 94, 58, 38, 69]\n",
        "for s in filter(flunk, score):\n",
        "  print(s)"
      ],
      "execution_count": null,
      "outputs": []
    },
    {
      "cell_type": "markdown",
      "metadata": {
        "id": "ZiQ1wJz2cigs"
      },
      "source": [
        "### 4. map"
      ]
    },
    {
      "cell_type": "code",
      "metadata": {
        "id": "VFzGTR3DclpA"
      },
      "source": [
        "# x 를 3으로 나눈 나머지를 내보내는 flunk 함수를 만드세요\n",
        "\n",
        "\n",
        "score = [10, 26, 94, 58, 38, 69]\n",
        "for s in map(flunk, score):\n",
        "  print(s)"
      ],
      "execution_count": null,
      "outputs": []
    },
    {
      "cell_type": "markdown",
      "metadata": {
        "id": "GQJBsyHOcmMA"
      },
      "source": [
        "### 5. lambda"
      ]
    },
    {
      "cell_type": "code",
      "metadata": {
        "id": "Gd0y9yk5cq4I"
      },
      "source": [
        "# 4. 번 문제를 lambda 함수로 고쳐보세요"
      ],
      "execution_count": null,
      "outputs": []
    },
    {
      "cell_type": "markdown",
      "metadata": {
        "id": "8uuelq_1eTsF"
      },
      "source": [
        "# **파일**\n",
        "---------"
      ]
    },
    {
      "cell_type": "markdown",
      "metadata": {
        "id": "oivcYGdEfb0p"
      },
      "source": [
        "직관적인 이해를 돕기 위해서 해당 단원부터는 pycharm 을 이용하여 진행합니다. \n",
        "코드만 셀에서 복사해서 쓰세요."
      ]
    },
    {
      "cell_type": "markdown",
      "metadata": {
        "id": "U7ckgm_QfkN8"
      },
      "source": [
        "### 1. 파일 입력"
      ]
    },
    {
      "cell_type": "code",
      "metadata": {
        "id": "hCioDw7geVtc"
      },
      "source": [
        "f = open(\"live.txt\", \"wt\")\n",
        "f.write(\"\"\"hello friends\n",
        "my name is seoyeon\n",
        "nice to meet you\n",
        "i love python\"\"\")\n",
        "f.close()"
      ],
      "execution_count": null,
      "outputs": []
    },
    {
      "cell_type": "markdown",
      "metadata": {
        "id": "R4pPr-Aaf66Q"
      },
      "source": [
        "### 2. 파일 읽기"
      ]
    },
    {
      "cell_type": "code",
      "metadata": {
        "id": "hDVrkCiBf8vZ"
      },
      "source": [
        "try :\n",
        "  f = open(\"live.txt\", \"rt\")\n",
        "  text = f.read()\n",
        "  print(text)\n",
        "except FileNotFoundError :\n",
        "  print(\"파일이 없습니다.\")\n",
        "finally :\n",
        "  f.close"
      ],
      "execution_count": null,
      "outputs": []
    },
    {
      "cell_type": "markdown",
      "metadata": {
        "id": "ylWpI9tFgkWi"
      },
      "source": [
        "### 3. readline 함수"
      ]
    },
    {
      "cell_type": "code",
      "metadata": {
        "id": "huX3awKHguni"
      },
      "source": [
        "f = open(\"live.txt\", \"rt\")\n",
        "text = \"\"\n",
        "line = 1\n",
        "while True :\n",
        "  row = f.readline()\n",
        "  if not row : break\n",
        "  text += str(line) + \" : \" + row\n",
        "  line += 1\n",
        "f.close()\n",
        "print(text)"
      ],
      "execution_count": null,
      "outputs": []
    },
    {
      "cell_type": "markdown",
      "metadata": {
        "id": "K89Etb_hhP3l"
      },
      "source": [
        "### 4. tell / seek 함수"
      ]
    },
    {
      "cell_type": "code",
      "metadata": {
        "id": "ISAKvg0mhZKG"
      },
      "source": [
        "f = open(\"live.txt\", \"rt\")\n",
        "print(f.tell())\n",
        "print(f.readline())\n",
        "print(f.tell())\n",
        "print(f.readline())\n",
        "print(f.tell())\n",
        "f.seek(0)\n",
        "print(f.readline())\n",
        "print(f.tell())"
      ],
      "execution_count": null,
      "outputs": []
    },
    {
      "cell_type": "markdown",
      "metadata": {
        "id": "AuVRT6NFk5gS"
      },
      "source": [
        "### 5. listdir 함수"
      ]
    },
    {
      "cell_type": "code",
      "metadata": {
        "id": "EHE0RIJIlHWN"
      },
      "source": [
        "import os\n",
        "files = os.listdir(\".\")\n",
        "for f in files :\n",
        "  print(f)"
      ],
      "execution_count": null,
      "outputs": []
    },
    {
      "cell_type": "markdown",
      "metadata": {
        "id": "Tv54yPKtl9U_"
      },
      "source": [
        "### 6. split, rstrip\n"
      ]
    },
    {
      "cell_type": "code",
      "metadata": {
        "colab": {
          "base_uri": "https://localhost:8080/"
        },
        "id": "vae9MULanBCp",
        "outputId": "1a475405-c7a2-4a61-e8b8-4e2655cdaf59"
      },
      "source": [
        "Examp = \"V1#V2#V3#V4\"\n",
        "x = Examp.split(\"#\")\n",
        "print(x)"
      ],
      "execution_count": null,
      "outputs": [
        {
          "output_type": "stream",
          "text": [
            "['V1', 'V2', 'V3', 'V4']\n"
          ],
          "name": "stdout"
        }
      ]
    },
    {
      "cell_type": "code",
      "metadata": {
        "colab": {
          "base_uri": "https://localhost:8080/"
        },
        "id": "6jnpqCYSn5Ql",
        "outputId": "568029ae-d445-4c4d-adfa-48f3b449679f"
      },
      "source": [
        "a= \" hi \"\n",
        "print(a.rstrip())\n",
        "print(a.lstrip())\n",
        "print(a.strip())"
      ],
      "execution_count": null,
      "outputs": [
        {
          "output_type": "stream",
          "text": [
            " hi\n",
            "hi \n",
            "hi\n"
          ],
          "name": "stdout"
        }
      ]
    },
    {
      "cell_type": "code",
      "metadata": {
        "colab": {
          "base_uri": "https://localhost:8080/"
        },
        "id": "1kjcUF2vnFjx",
        "outputId": "f40568af-5446-4545-aace-28ec453aa681"
      },
      "source": [
        "text = '0000000Water boils at 100 degrees 000'\n",
        "print(text.lstrip('0'))\n",
        "print(text.rstrip('0'))\n",
        "print(text.strip('0'))"
      ],
      "execution_count": null,
      "outputs": [
        {
          "output_type": "stream",
          "text": [
            "Water boils at 100 degrees 000\n",
            "0000000Water boils at 100 degrees \n",
            "Water boils at 100 degrees \n"
          ],
          "name": "stdout"
        }
      ]
    },
    {
      "cell_type": "markdown",
      "metadata": {
        "id": "xMUXP6hRp30b"
      },
      "source": [
        "# **클래스**\n",
        "-------------"
      ]
    },
    {
      "cell_type": "markdown",
      "metadata": {
        "id": "ih7DJeR5qsGw"
      },
      "source": [
        "### 1. 클래스 : 객체"
      ]
    },
    {
      "cell_type": "code",
      "metadata": {
        "id": "lSWuYQAfp55K"
      },
      "source": [
        "class Human():\n",
        "  def __init__(self, age, name):\n",
        "    self.age = age\n",
        "    self.name = name\n",
        "  def intro(self):\n",
        "    print(str(self.age) + \"살 \" + str(self.name) + \"입니다.\")\n",
        "\n",
        "kim = Human(32, \"양서연\")\n",
        "kim.intro()\n",
        "\n",
        "# 여러분의 객체를 만들어보고 intro 해보세요\n",
        "\n",
        "# 키라는 멤버 변수를 만들어보세요\n",
        "\n",
        "# height 이라는 함수에서 키가 인쇄되도록 해보세요"
      ],
      "execution_count": null,
      "outputs": []
    },
    {
      "cell_type": "markdown",
      "metadata": {
        "id": "U-BviwX2quci"
      },
      "source": [
        "### 2. 클래스 : 상속 "
      ]
    },
    {
      "cell_type": "code",
      "metadata": {
        "id": "TShiFZnDqc_r"
      },
      "source": [
        "class Human():\n",
        "\n",
        "  def __init__(self, age, name):\n",
        "    self.age = age\n",
        "    self.name = name\n",
        "\n",
        "  def intro(self):\n",
        "    print(str(self.age) + \"살 \" + str(self.name) + \"입니다.\")\n",
        "\n",
        "class Student(Human):\n",
        "\n",
        "  def __init__(self, age, name, stunum):\n",
        "    super().__init__(age, name)\n",
        "    self.stunum = stunum\n",
        "\n",
        "  def intro(self):\n",
        "    super().intro()\n",
        "    print(\"학번 : \" + str(self.stunum))\n",
        "\n",
        "  def study(self):\n",
        "    print(\"하늘 천 따지\")\n",
        "\n",
        "kim = Human(32, \"양서연\")\n",
        "kim.intro()\n",
        "lee = Student(25, \"이승우\", 234299)\n",
        "lee.intro()\n",
        "lee.study()\n",
        "\n",
        "# 위에서 한대로 키 멤버 변수와 키를 인쇄하는 함수를 human에 만들고\n",
        "# student에서 키를 인쇄하는 함수를 상속받아 \"키가 정말 크군요\" 라고 추가 인쇄해보세요\n"
      ],
      "execution_count": null,
      "outputs": []
    },
    {
      "cell_type": "markdown",
      "metadata": {
        "id": "VqrpwyVbsmwp"
      },
      "source": [
        "### 3. 클래스 : 엑세서"
      ]
    },
    {
      "cell_type": "code",
      "metadata": {
        "id": "MbZi-DI1slDW"
      },
      "source": [
        "class Date : \n",
        "  def __init__(self, month) :\n",
        "    self.month = month\n",
        "\n",
        "  def getmonth(self) :\n",
        "    return self.month\n",
        "\n",
        "  def setmonth(self, month) :\n",
        "    if 1 <= month <= 12:\n",
        "      self.month = month\n",
        "\n",
        "today = Date(8)\n",
        "today.setmonth(15)\n",
        "print(today.getmonth())"
      ],
      "execution_count": null,
      "outputs": []
    },
    {
      "cell_type": "markdown",
      "metadata": {
        "id": "qdO_ZfL0th_F"
      },
      "source": [
        "### 4. 클래스 메서드 : @classmethod 데커레이터"
      ]
    },
    {
      "cell_type": "code",
      "metadata": {
        "id": "LJeMr3X9tO58"
      },
      "source": [
        "class Car : \n",
        "  @staticmethod\n",
        "  def hello():\n",
        "    print(\"오늘도 안전 운행 합시다.\")\n",
        "\n",
        "  count = 0\n",
        "  def __init__(self, name):\n",
        "    self.name = name\n",
        "    Car.count += 1\n",
        "\n",
        "  @classmethod\n",
        "  def outcount(cls):\n",
        "    print(cls.count)\n",
        "\n",
        "pride = Car(\"프라이드\")\n",
        "korando = Car(\"코란도\")\n",
        "\n",
        "Car.outcount()\n",
        "Car.hello()\n"
      ],
      "execution_count": null,
      "outputs": []
    },
    {
      "cell_type": "markdown",
      "metadata": {
        "id": "J90_nY5SxxOi"
      },
      "source": [
        "# 모듈과 패키지"
      ]
    },
    {
      "cell_type": "markdown",
      "metadata": {
        "id": "s3AXJZFJxy29"
      },
      "source": [
        "### 1. 모듈"
      ]
    },
    {
      "cell_type": "code",
      "metadata": {
        "id": "ThycKz-UyCEk"
      },
      "source": [
        "# util.py\n",
        "INCH = 2.54\n",
        "\n",
        "def calcsum(n):\n",
        "  sum = 0\n",
        "  for num in range(n + 1):\n",
        "    sum += num\n",
        "  return sum\n",
        "\n",
        "if __name__ = \"__main__\":\n",
        "  print(\"인치 = \", INCH)\n",
        "  print(\"합계 = \", calcsum(10))"
      ],
      "execution_count": null,
      "outputs": []
    },
    {
      "cell_type": "code",
      "metadata": {
        "id": "Aze5ukubymby"
      },
      "source": [
        "#utiltest.py\n",
        "import util\n",
        "\n",
        "print(\"1 inch = \", util.INCH)\n",
        "print(\"~10 = \", util.calcsum(10))"
      ],
      "execution_count": null,
      "outputs": []
    },
    {
      "cell_type": "code",
      "metadata": {
        "id": "paxWXpOjy_BV"
      },
      "source": [
        "import sys\n",
        "sys.path\n",
        "sys.path.append(\"경로\")"
      ],
      "execution_count": null,
      "outputs": []
    },
    {
      "cell_type": "markdown",
      "metadata": {
        "id": "7FTnJGbkzPI2"
      },
      "source": [
        "### 2. 패키지"
      ]
    },
    {
      "cell_type": "code",
      "metadata": {
        "id": "CwZ1tFz6zRjv"
      },
      "source": [
        "#add.py\n",
        "def outadd(a,b):\n",
        "  print(a+b)"
      ],
      "execution_count": null,
      "outputs": []
    },
    {
      "cell_type": "code",
      "metadata": {
        "id": "-g9MHWRLz7i-"
      },
      "source": [
        "#multi.py\n",
        "def outmulti(a,b):\n",
        "  print(a*b)"
      ],
      "execution_count": null,
      "outputs": []
    },
    {
      "cell_type": "code",
      "metadata": {
        "id": "godQ2MLc0AJ2"
      },
      "source": [
        "#table.py\n",
        "def printreport():\n",
        "  print(\"-\"*40)\n",
        "  print(\"report\")\n",
        "  print(\"-\"*40)"
      ],
      "execution_count": null,
      "outputs": []
    }
  ]
}